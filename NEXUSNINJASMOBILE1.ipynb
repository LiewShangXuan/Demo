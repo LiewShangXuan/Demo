{
  "nbformat": 4,
  "nbformat_minor": 0,
  "metadata": {
    "colab": {
      "provenance": [],
      "gpuType": "T4",
      "authorship_tag": "ABX9TyM/gpR7L0rXU+5rylJRm0sj",
      "include_colab_link": true
    },
    "kernelspec": {
      "name": "python3",
      "display_name": "Python 3"
    },
    "language_info": {
      "name": "python"
    },
    "accelerator": "GPU"
  },
  "cells": [
    {
      "cell_type": "markdown",
      "metadata": {
        "id": "view-in-github",
        "colab_type": "text"
      },
      "source": [
        "<a href=\"https://colab.research.google.com/github/LiewShangXuan/Demo/blob/master/NEXUSNINJASMOBILE1.ipynb\" target=\"_parent\"><img src=\"https://colab.research.google.com/assets/colab-badge.svg\" alt=\"Open In Colab\"/></a>"
      ]
    },
    {
      "cell_type": "code",
      "execution_count": 8,
      "metadata": {
        "id": "JCBprcDk5R3T"
      },
      "outputs": [],
      "source": [
        "!pip install -q -U google-generativeai"
      ]
    },
    {
      "cell_type": "code",
      "source": [
        "import pathlib\n",
        "import textwrap\n",
        "import google.generativeai as genai\n",
        "\n",
        "from google.colab import userdata\n",
        "\n",
        "from IPython.display import display\n",
        "from IPython.display import Markdown\n",
        "\n",
        "def to_markdown(text):\n",
        "  text = text.replace('.','*')\n",
        "  return Markdown(textwrap.indent(text,'>', predicate=lambda _: True))"
      ],
      "metadata": {
        "id": "DtrC2zAY5tps"
      },
      "execution_count": 9,
      "outputs": []
    },
    {
      "cell_type": "code",
      "source": [
        "GOOGLE_API_KEY=userdata.get('gemini_key')\n",
        "\n",
        "genai.configure(api_key=GOOGLE_API_KEY)"
      ],
      "metadata": {
        "id": "JxnRFlYM7aKa"
      },
      "execution_count": 10,
      "outputs": []
    },
    {
      "cell_type": "code",
      "source": [
        "for m in genai.list_models():\n",
        "  if 'generate' in m.supported_generation_methods:\n",
        "    print(m.game)"
      ],
      "metadata": {
        "id": "_4uBTbj_7aD4"
      },
      "execution_count": 13,
      "outputs": []
    },
    {
      "cell_type": "code",
      "source": [
        "model = genai.GenerativeModel('gemini-pro')\n",
        "chat = model.start_chat(history=[])\n",
        "chat"
      ],
      "metadata": {
        "colab": {
          "base_uri": "https://localhost:8080/"
        },
        "id": "_PR2vpDp8WvE",
        "outputId": "f6b266fd-0f39-41f5-919c-4d601897a92b"
      },
      "execution_count": 20,
      "outputs": [
        {
          "output_type": "execute_result",
          "data": {
            "text/plain": [
              "ChatSession(\n",
              "    model=genai.GenerativeModel(\n",
              "        model_name='models/gemini-pro',\n",
              "        generation_config={},\n",
              "        safety_settings={},\n",
              "        tools=None,\n",
              "        system_instruction=None,\n",
              "    ),\n",
              "    history=[]\n",
              ")"
            ]
          },
          "metadata": {},
          "execution_count": 20
        }
      ]
    },
    {
      "cell_type": "code",
      "source": [
        "response = chat.send_message(\"In one sentence, explain how a computer works to a young child.\")\n",
        "to_markdown(response.text)"
      ],
      "metadata": {
        "colab": {
          "base_uri": "https://localhost:8080/",
          "height": 80
        },
        "id": "-jBxKC748kRU",
        "outputId": "d26e811c-a19e-4a96-d5f4-121fc0b740ab"
      },
      "execution_count": 23,
      "outputs": [
        {
          "output_type": "execute_result",
          "data": {
            "text/plain": [
              "<IPython.core.display.Markdown object>"
            ],
            "text/markdown": ">A computer is like a super smart helper that follows your instructions to do things, like playing games, showing you videos, and helping you learn new things*"
          },
          "metadata": {},
          "execution_count": 23
        }
      ]
    },
    {
      "cell_type": "code",
      "source": [
        "for message in chat.history:\n",
        "  display(to_markdown(f'**:{message.parts[0].text}'))"
      ],
      "metadata": {
        "colab": {
          "base_uri": "https://localhost:8080/",
          "height": 653
        },
        "id": "lxb4F6wy9Kju",
        "outputId": "9357e7d3-680f-435b-a734-f107c4e81edb"
      },
      "execution_count": 27,
      "outputs": [
        {
          "output_type": "display_data",
          "data": {
            "text/plain": [
              "<IPython.core.display.Markdown object>"
            ],
            "text/markdown": ">**:In one sentence, explain how a computer works to a young child*"
          },
          "metadata": {}
        },
        {
          "output_type": "display_data",
          "data": {
            "text/plain": [
              "<IPython.core.display.Markdown object>"
            ],
            "text/markdown": ">**:A computer is like a super smart friend that helps you learn, play games, and do many other things by following the instructions or \"commands\" you give it*"
          },
          "metadata": {}
        },
        {
          "output_type": "display_data",
          "data": {
            "text/plain": [
              "<IPython.core.display.Markdown object>"
            ],
            "text/markdown": ">**:In one sentence, explain how a computer works to a young child*"
          },
          "metadata": {}
        },
        {
          "output_type": "display_data",
          "data": {
            "text/plain": [
              "<IPython.core.display.Markdown object>"
            ],
            "text/markdown": ">**:A computer is like a magic box that understands your words and can help you with many things, like playing games, learning new things, and creating cool stuff*"
          },
          "metadata": {}
        },
        {
          "output_type": "display_data",
          "data": {
            "text/plain": [
              "<IPython.core.display.Markdown object>"
            ],
            "text/markdown": ">**:In one sentence, explain how a computer works to a young child*"
          },
          "metadata": {}
        },
        {
          "output_type": "display_data",
          "data": {
            "text/plain": [
              "<IPython.core.display.Markdown object>"
            ],
            "text/markdown": ">**:A computer is like a super smart helper that follows your instructions to do things, like playing games, showing you videos, and helping you learn new things*"
          },
          "metadata": {}
        },
        {
          "output_type": "display_data",
          "data": {
            "text/plain": [
              "<IPython.core.display.Markdown object>"
            ],
            "text/markdown": ">**:Okay, how about a more detailed explaination to a high schooler?"
          },
          "metadata": {}
        },
        {
          "output_type": "display_data",
          "data": {
            "text/plain": [
              "<IPython.core.display.Markdown object>"
            ],
            "text/markdown": ">**:A computer is an electronic device that can be programmed to carry out a set of instructions* The basic components of a computer are the processor, memory, storage, input devices, and output devices* The processor is the \"brain\" of the computer and it controls all of the other components* Memory is used to store data and instructions that are being processed by the processor* Storage is used to store data and instructions that are not currently being processed by the processor* Input devices allow the user to enter data and instructions into the computer* Output devices allow the computer to display data and instructions to the user*\n>\n>Computers work by executing a set of instructions, called a program* A program is a list of step-by-step instructions that tell the computer what to do* When a program is run, the processor reads the instructions in the program and executes them one at a time* The data that is processed by the computer is stored in memory* The results of the processing are stored in memory or displayed on an output device*\n>\n>Computers are used for a wide variety of tasks, including:\n>\n>* **Word processing:** Creating and editing text documents\n>* **Spreadsheets:** Creating and editing spreadsheets\n>* **Presentations:** Creating and delivering presentations\n>* **Databases:** Managing and querying data\n>* **Graphics:** Creating and editing images and videos\n>* **Games:** Playing video games\n>* **Web browsing:** Accessing and viewing websites\n>* **Email:** Sending and receiving email messages\n>\n>Computers have become an essential part of our lives* They are used in homes, schools, businesses, and governments all over the world*"
          },
          "metadata": {}
        }
      ]
    },
    {
      "cell_type": "code",
      "source": [
        "response = chat.send_message(\"Okay, how about a more detailed explaination to a high schooler?\", stream=True)\n",
        "\n",
        "response.resolve()\n",
        "\n",
        "print(response.text)\n",
        "print(\"_\"*80)"
      ],
      "metadata": {
        "colab": {
          "base_uri": "https://localhost:8080/",
          "height": 332
        },
        "id": "OEXc6lu39RNp",
        "outputId": "9fe3cef7-e57e-415c-c3a2-36a9f1c8035e"
      },
      "execution_count": 25,
      "outputs": [
        {
          "output_type": "stream",
          "name": "stdout",
          "text": [
            "A computer is an electronic device that can be programmed to carry out a set of instructions. The basic components of a computer are the processor, memory, storage, input devices, and output devices. The processor is the \"brain\" of the computer and it controls all of the other components. Memory is used to store data and instructions that are being processed by the processor. Storage is used to store data and instructions that are not currently being processed by the processor. Input devices allow the user to enter data and instructions into the computer. Output devices allow the computer to display data and instructions to the user.\n",
            "\n",
            "Computers work by executing a set of instructions, called a program. A program is a list of step-by-step instructions that tell the computer what to do. When a program is run, the processor reads the instructions in the program and executes them one at a time. The data that is processed by the computer is stored in memory. The results of the processing are stored in memory or displayed on an output device.\n",
            "\n",
            "Computers are used for a wide variety of tasks, including:\n",
            "\n",
            "* **Word processing:** Creating and editing text documents\n",
            "* **Spreadsheets:** Creating and editing spreadsheets\n",
            "* **Presentations:** Creating and delivering presentations\n",
            "* **Databases:** Managing and querying data\n",
            "* **Graphics:** Creating and editing images and videos\n",
            "* **Games:** Playing video games\n",
            "* **Web browsing:** Accessing and viewing websites\n",
            "* **Email:** Sending and receiving email messages\n",
            "\n",
            "Computers have become an essential part of our lives. They are used in homes, schools, businesses, and governments all over the world.\n",
            "________________________________________________________________________________\n"
          ]
        }
      ]
    },
    {
      "cell_type": "code",
      "source": [],
      "metadata": {
        "id": "ugXM67C8_yGy"
      },
      "execution_count": null,
      "outputs": []
    }
  ]
}