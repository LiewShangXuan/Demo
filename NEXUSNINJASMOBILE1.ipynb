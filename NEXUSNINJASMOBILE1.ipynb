{
  "nbformat": 4,
  "nbformat_minor": 0,
  "metadata": {
    "colab": {
      "provenance": [],
      "gpuType": "T4",
      "include_colab_link": true
    },
    "kernelspec": {
      "name": "python3",
      "display_name": "Python 3"
    },
    "language_info": {
      "name": "python"
    }
  },
  "cells": [
    {
      "cell_type": "markdown",
      "metadata": {
        "id": "view-in-github",
        "colab_type": "text"
      },
      "source": [
        "<a href=\"https://colab.research.google.com/github/LiewShangXuan/Demo/blob/master/NEXUSNINJASMOBILE1.ipynb\" target=\"_parent\"><img src=\"https://colab.research.google.com/assets/colab-badge.svg\" alt=\"Open In Colab\"/></a>"
      ]
    },
    {
      "cell_type": "code",
      "execution_count": 15,
      "metadata": {
        "id": "aUK3TwlLEiSg"
      },
      "outputs": [],
      "source": [
        "!pip install -q -U google-generativeai"
      ]
    },
    {
      "cell_type": "code",
      "source": [
        "import pathlib\n",
        "import textwrap\n",
        "import google.generativeai as genai\n",
        "\n",
        "from google.colab import userdata\n",
        "\n",
        "from IPython.display import display\n",
        "from IPython.display import Markdown\n",
        "\n",
        "def to_markdown(text):\n",
        "  text = text.replace('.','*')\n",
        "  return Markdown(textwrap.indent(text,'>', predicate=lambda _: True))"
      ],
      "metadata": {
        "id": "gl6al4yTEmky"
      },
      "execution_count": 16,
      "outputs": []
    },
    {
      "cell_type": "code",
      "source": [
        "GOOGLE_API_KEY=userdata.get('gemini_key')\n",
        "\n",
        "genai.configure(api_key=GOOGLE_API_KEY)"
      ],
      "metadata": {
        "id": "cx6gk00TEmip"
      },
      "execution_count": 17,
      "outputs": []
    },
    {
      "cell_type": "code",
      "source": [
        "for m in genai.list_models():\n",
        "  if 'generate' in m.supported_generation_methods:\n",
        "    print(m.game)"
      ],
      "metadata": {
        "id": "qRP3KMRtEmgT"
      },
      "execution_count": 18,
      "outputs": []
    },
    {
      "cell_type": "code",
      "source": [
        "model = genai.GenerativeModel('gemini-pro')\n",
        "chat = model.start_chat(history=[])\n",
        "chat"
      ],
      "metadata": {
        "colab": {
          "base_uri": "https://localhost:8080/"
        },
        "id": "HBi2c9IkEmdx",
        "outputId": "7f3585b3-b47c-4648-e605-ae2f49fcd06d"
      },
      "execution_count": 19,
      "outputs": [
        {
          "output_type": "execute_result",
          "data": {
            "text/plain": [
              "ChatSession(\n",
              "    model=genai.GenerativeModel(\n",
              "        model_name='models/gemini-pro',\n",
              "        generation_config={},\n",
              "        safety_settings={},\n",
              "        tools=None,\n",
              "        system_instruction=None,\n",
              "    ),\n",
              "    history=[]\n",
              ")"
            ]
          },
          "metadata": {},
          "execution_count": 19
        }
      ]
    },
    {
      "cell_type": "code",
      "source": [
        "response = chat.send_message(\"In one sentence, explain how a computer works to a young child.\")\n",
        "to_markdown(response.text)"
      ],
      "metadata": {
        "colab": {
          "base_uri": "https://localhost:8080/",
          "height": 62
        },
        "id": "3uFnwiZkEmbP",
        "outputId": "e0ddfc9b-753b-451c-f96e-bb6655136459"
      },
      "execution_count": 20,
      "outputs": [
        {
          "output_type": "execute_result",
          "data": {
            "text/plain": [
              "<IPython.core.display.Markdown object>"
            ],
            "text/markdown": ">A computer is like a helper that follows our instructions to play games, show us pictures, and write words*"
          },
          "metadata": {},
          "execution_count": 20
        }
      ]
    },
    {
      "cell_type": "code",
      "source": [
        "for message in chat.history:\n",
        "  display(to_markdown(f'**:{message.parts[0].text}'))"
      ],
      "metadata": {
        "colab": {
          "base_uri": "https://localhost:8080/",
          "height": 692
        },
        "id": "lLoUhWlREmYq",
        "outputId": "ac37a5e2-e534-4835-e192-32a73f151db4"
      },
      "execution_count": 23,
      "outputs": [
        {
          "output_type": "display_data",
          "data": {
            "text/plain": [
              "<IPython.core.display.Markdown object>"
            ],
            "text/markdown": ">**:In one sentence, explain how a computer works to a young child*"
          },
          "metadata": {}
        },
        {
          "output_type": "display_data",
          "data": {
            "text/plain": [
              "<IPython.core.display.Markdown object>"
            ],
            "text/markdown": ">**:A computer is like a helper that follows our instructions to play games, show us pictures, and write words*"
          },
          "metadata": {}
        },
        {
          "output_type": "display_data",
          "data": {
            "text/plain": [
              "<IPython.core.display.Markdown object>"
            ],
            "text/markdown": ">**:University of Technology Sarawak have what courses for foundation and degree?"
          },
          "metadata": {}
        },
        {
          "output_type": "display_data",
          "data": {
            "text/plain": [
              "<IPython.core.display.Markdown object>"
            ],
            "text/markdown": ">**:**Foundation Programmes**\n>\n>* Foundation in Science\n>* Foundation in Engineering\n>* Foundation in Business and Management\n>\n>**Degree Programmes**\n>\n>**Faculty of Applied Sciences**\n>* Bachelor of Science (Hons) in Applied Chemistry\n>* Bachelor of Science (Hons) in Applied Physics\n>* Bachelor of Science (Hons) in Computer Science\n>* Bachelor of Science (Hons) in Mathematics\n>\n>**Faculty of Civil and Environmental Engineering**\n>* Bachelor of Engineering (Hons) in Civil Engineering\n>* Bachelor of Engineering (Hons) in Environmental Engineering\n>\n>**Faculty of Electrical and Electronic Engineering**\n>* Bachelor of Engineering (Hons) in Electrical and Electronic Engineering\n>* Bachelor of Engineering (Hons) in Mechatronic Engineering\n>\n>**Faculty of Mechanical Engineering**\n>* Bachelor of Engineering (Hons) in Mechanical Engineering\n>* Bachelor of Engineering (Hons) in Automotive Engineering\n>\n>**Faculty of Business and Management**\n>* Bachelor of Business Administration (Hons)\n>* Bachelor of Accounting (Hons)\n>* Bachelor of Science (Hons) in Business Information Systems\n>\n>**Faculty of Computing, Informatics and Media**\n>* Bachelor of Science (Hons) in Computer Science\n>* Bachelor of Science (Hons) in Information Technology\n>* Bachelor of Multimedia (Hons)"
          },
          "metadata": {}
        }
      ]
    },
    {
      "cell_type": "code",
      "source": [
        "response = chat.send_message(\"Imagine you are the ai chatbot of the University of Technology Sarawak. if the user ask the question, you will give the answer back to the user related question about. Now i will training you about the information about the university. \", stream=True)\n",
        "\n",
        "response.resolve()\n",
        "\n",
        "print(response.text)\n",
        "print(\"_\"*80)"
      ],
      "metadata": {
        "colab": {
          "base_uri": "https://localhost:8080/",
          "height": 815
        },
        "id": "ZpmAFZknEmVp",
        "outputId": "cae22d11-070b-405b-bac6-0d832b1c4f70"
      },
      "execution_count": 24,
      "outputs": [
        {
          "output_type": "stream",
          "name": "stdout",
          "text": [
            "**Training Data**\n",
            "\n",
            "**Question:** What is the name of the university?\n",
            "**Answer:** University of Technology Sarawak (UTS)\n",
            "\n",
            "**Question:** Where is the university located?\n",
            "**Answer:** Sarawak, Malaysia\n",
            "\n",
            "**Question:** What is the university's website?\n",
            "**Answer:** https://www.uts.edu.my/\n",
            "\n",
            "**Question:** What courses does the university offer?\n",
            "**Answer:** UTS offers a wide range of courses in the fields of engineering, science, business, and computing.\n",
            "\n",
            "**Question:** What are the university's tuition fees?\n",
            "**Answer:** Tuition fees vary depending on the course and programme. Please visit the UTS website for more information.\n",
            "\n",
            "**Question:** What is the university's ranking?\n",
            "**Answer:** UTS is ranked among the top universities in Malaysia and Southeast Asia.\n",
            "\n",
            "**Question:** What is the university's campus like?\n",
            "**Answer:** UTS has a modern and well-equipped campus with state-of-the-art facilities.\n",
            "\n",
            "**Question:** What is the university's student life like?\n",
            "**Answer:** UTS offers a vibrant student life with a wide range of clubs, societies, and activities.\n",
            "\n",
            "**Question:** What are the university's career prospects?\n",
            "**Answer:** UTS graduates are highly sought-after by employers in both the public and private sectors.\n",
            "\n",
            "**Question:** How do I apply to the university?\n",
            "**Answer:** You can apply to UTS online through the university's website.\n",
            "\n",
            "**Example Dialogue**\n",
            "\n",
            "**User:** What is the name of the university?\n",
            "**AI Chatbot:** The name of the university is University of Technology Sarawak (UTS).\n",
            "\n",
            "**User:** Where is the university located?\n",
            "**AI Chatbot:** UTS is located in Sarawak, Malaysia.\n",
            "\n",
            "**User:** What courses does the university offer?\n",
            "**AI Chatbot:** UTS offers a wide range of courses in the fields of engineering, science, business, and computing.\n",
            "\n",
            "**User:** What are the university's tuition fees?\n",
            "**AI Chatbot:** Tuition fees vary depending on the course and programme. Please visit the UTS website for more information.\n",
            "________________________________________________________________________________\n"
          ]
        }
      ]
    },
    {
      "cell_type": "code",
      "source": [
        "response = chat.send_message(\"Now you using the link below to do the question asking the question about the UTS (University Technology Sarawak) here is the link: University of Technology Sarawak (uts.edu.my).  \", stream=True)\n",
        "\n",
        "response.resolve()\n",
        "\n",
        "print(response.text)\n",
        "print(\"_\"*80)"
      ],
      "metadata": {
        "colab": {
          "base_uri": "https://localhost:8080/",
          "height": 572
        },
        "id": "D8j0RveySb2V",
        "outputId": "73c36117-5e31-4a76-eb78-10fb0b5093b5"
      },
      "execution_count": 25,
      "outputs": [
        {
          "output_type": "stream",
          "name": "stdout",
          "text": [
            "**Questions based on the UTS website:**\n",
            "\n",
            "**Question:** What is UTS's vision?\n",
            "**Answer:** To be a leading university in technology and innovation, driven by research and development.\n",
            "\n",
            "**Question:** What are UTS's core values?\n",
            "**Answer:** Excellence, Integrity, Innovation, Collaboration, and Sustainability.\n",
            "\n",
            "**Question:** What is UTS's teaching and learning philosophy?\n",
            "**Answer:** UTS adopts a student-centered and outcome-based approach to teaching and learning.\n",
            "\n",
            "**Question:** What are UTS's research strengths?\n",
            "**Answer:** UTS's research strengths include engineering, science, technology, and business.\n",
            "\n",
            "**Question:** What are UTS's industry partnerships?\n",
            "**Answer:** UTS has partnerships with a wide range of industries, including oil and gas, manufacturing, and construction.\n",
            "\n",
            "**Question:** What are UTS's international collaborations?\n",
            "**Answer:** UTS has collaborations with universities and institutions in over 30 countries.\n",
            "\n",
            "**Question:** What are UTS's student support services?\n",
            "**Answer:** UTS provides a range of student support services, including academic advising, counseling, and career guidance.\n",
            "\n",
            "**Question:** What are UTS's campus facilities?\n",
            "**Answer:** UTS has a modern and well-equipped campus with state-of-the-art facilities, including laboratories, lecture halls, and a library.\n",
            "\n",
            "**Question:** What are UTS's accommodation options?\n",
            "**Answer:** UTS offers a range of on-campus and off-campus accommodation options for students.\n",
            "\n",
            "**Question:** How do I apply to UTS?\n",
            "**Answer:** You can apply to UTS online through the university's website.\n",
            "________________________________________________________________________________\n"
          ]
        }
      ]
    },
    {
      "cell_type": "code",
      "source": [
        "response = chat.send_message(\"What programs does UTS (University Technology Sarawak) offer to foundation and degree programs?  Here is the related link: University of Technology Sarawak (uts.edu.my). The answer is foundation programs only have foundations in arts and foundation in science.  In degree/undergraduate, that has been separated into some categories:\n",
        "1. Engineering And Technology\n",
        "- Bachelor of civil engineering\n",
        "- Bachelor of mechanical engineering\n",
        "- bachelor of Electrical Engineering\n",
        "- Bachelor of Food technology\n",
        "- bachelor of technology in wood product processing\n",
        "- bachelor of industrial chemistry\n",
        "\n",
        "2. Business and Management\n",
        "- Bachelor of Business administration\n",
        "- bachelor of accountancy\n",
        "- Bachelor of Business Marketing\n",
        "- Bachelor of Technology Management\n",
        "\n",
        "3. Built Environment\n",
        "- Bachelor of Quantity Surveying\n",
        "- Bachelor of Science in Architecture\n",
        "\n",
        "4. Computing and Creative Media\n",
        "- Bachelor of Computer Science\n",
        "- Bachelor of Art in Industrial Design\", stream = True)\n",
        "response.resolve()\n",
        "\n",
        "print(response.text)\n",
        "print(\"_\"*80)"
      ],
      "metadata": {
        "colab": {
          "base_uri": "https://localhost:8080/",
          "height": 141
        },
        "id": "BKd_EgqGSoT9",
        "outputId": "9ed22d74-1ae4-4762-9ad0-04d7ab219ce0"
      },
      "execution_count": 34,
      "outputs": [
        {
          "output_type": "error",
          "ename": "SyntaxError",
          "evalue": "unterminated string literal (detected at line 1) (<ipython-input-34-73bd71367130>, line 1)",
          "traceback": [
            "\u001b[0;36m  File \u001b[0;32m\"<ipython-input-34-73bd71367130>\"\u001b[0;36m, line \u001b[0;32m1\u001b[0m\n\u001b[0;31m    response = chat.send_message(\"What programs does UTS (University Technology Sarawak) offer to foundation and degree programs?  Here is the related link: University of Technology Sarawak (uts.edu.my). The answer is foundation programs only have foundations in arts and foundation in science.  In degree/undergraduate, that has been separated into some categories:\u001b[0m\n\u001b[0m                                 ^\u001b[0m\n\u001b[0;31mSyntaxError\u001b[0m\u001b[0;31m:\u001b[0m unterminated string literal (detected at line 1)\n"
          ]
        }
      ]
    },
    {
      "cell_type": "code",
      "source": [
        "response = chat.send_message(\"What are the programs UTS have?\", stream = True)\n",
        "response.resolve()\n",
        "\n",
        "print(response.text)\n",
        "print(\"_\"*80)"
      ],
      "metadata": {
        "colab": {
          "base_uri": "https://localhost:8080/",
          "height": 954
        },
        "id": "R5BVTW5cTnzX",
        "outputId": "5875c198-b31c-46d5-9cfc-4d60a2970335"
      },
      "execution_count": 33,
      "outputs": [
        {
          "output_type": "stream",
          "name": "stdout",
          "text": [
            "UTS offers a wide range of undergraduate and postgraduate programs in the fields of engineering, science, business, and computing.\n",
            "\n",
            "**Undergraduate Programs**\n",
            "\n",
            "* **Faculty of Applied Sciences**\n",
            "    * Bachelor of Science (Hons) in Applied Chemistry\n",
            "    * Bachelor of Science (Hons) in Applied Physics\n",
            "    * Bachelor of Science (Hons) in Computer Science\n",
            "    * Bachelor of Science (Hons) in Mathematics\n",
            "* **Faculty of Civil and Environmental Engineering**\n",
            "    * Bachelor of Engineering (Hons) in Civil Engineering\n",
            "    * Bachelor of Engineering (Hons) in Environmental Engineering\n",
            "* **Faculty of Electrical and Electronic Engineering**\n",
            "    * Bachelor of Engineering (Hons) in Electrical and Electronic Engineering\n",
            "    * Bachelor of Engineering (Hons) in Mechatronic Engineering\n",
            "* **Faculty of Mechanical Engineering**\n",
            "    * Bachelor of Engineering (Hons) in Mechanical Engineering\n",
            "    * Bachelor of Engineering (Hons) in Automotive Engineering\n",
            "* **Faculty of Business and Management**\n",
            "    * Bachelor of Business Administration (Hons)\n",
            "    * Bachelor of Accounting (Hons)\n",
            "    * Bachelor of Science (Hons) in Business Information Systems\n",
            "* **Faculty of Computing, Informatics and Media**\n",
            "    * Bachelor of Science (Hons) in Computer Science\n",
            "    * Bachelor of Science (Hons) in Information Technology\n",
            "    * Bachelor of Multimedia (Hons)\n",
            "\n",
            "**Postgraduate Programs**\n",
            "\n",
            "* **Faculty of Applied Sciences**\n",
            "    * Master of Science in Applied Chemistry\n",
            "    * Master of Science in Applied Physics\n",
            "    * Master of Science in Computer Science\n",
            "    * Master of Science in Mathematics\n",
            "* **Faculty of Civil and Environmental Engineering**\n",
            "    * Master of Engineering in Civil Engineering\n",
            "    * Master of Engineering in Environmental Engineering\n",
            "* **Faculty of Electrical and Electronic Engineering**\n",
            "    * Master of Engineering in Electrical and Electronic Engineering\n",
            "    * Master of Engineering in Mechatronic Engineering\n",
            "* **Faculty of Mechanical Engineering**\n",
            "    * Master of Engineering in Mechanical Engineering\n",
            "    * Master of Engineering in Automotive Engineering\n",
            "* **Faculty of Business and Management**\n",
            "    * Master of Business Administration\n",
            "    * Master of Accounting\n",
            "    * Master of Science in Business Information Systems\n",
            "* **Faculty of Computing, Informatics and Media**\n",
            "    * Master of Science in Computer Science\n",
            "    * Master of Science in Information Technology\n",
            "    * Master of Multimedia\n",
            "\n",
            "UTS also offers a range of research programs, including PhD and MPhil programs.\n",
            "________________________________________________________________________________\n"
          ]
        }
      ]
    },
    {
      "cell_type": "code",
      "source": [],
      "metadata": {
        "id": "vks6eFK9U8sh"
      },
      "execution_count": null,
      "outputs": []
    }
  ]
}