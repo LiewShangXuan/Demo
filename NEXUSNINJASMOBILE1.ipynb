{
  "nbformat": 4,
  "nbformat_minor": 0,
  "metadata": {
    "colab": {
      "provenance": [],
      "gpuType": "T4",
      "authorship_tag": "ABX9TyPW/PJ/LLhLd82aEyd81DDe",
      "include_colab_link": true
    },
    "kernelspec": {
      "name": "python3",
      "display_name": "Python 3"
    },
    "language_info": {
      "name": "python"
    },
    "accelerator": "GPU"
  },
  "cells": [
    {
      "cell_type": "markdown",
      "metadata": {
        "id": "view-in-github",
        "colab_type": "text"
      },
      "source": [
        "<a href=\"https://colab.research.google.com/github/LiewShangXuan/Demo/blob/master/NEXUSNINJASMOBILE1.ipynb\" target=\"_parent\"><img src=\"https://colab.research.google.com/assets/colab-badge.svg\" alt=\"Open In Colab\"/></a>"
      ]
    },
    {
      "cell_type": "code",
      "execution_count": 9,
      "metadata": {
        "id": "aUK3TwlLEiSg"
      },
      "outputs": [],
      "source": [
        "!pip install -q -U google-generativeai"
      ]
    },
    {
      "cell_type": "code",
      "source": [
        "import pathlib\n",
        "import textwrap\n",
        "import google.generativeai as genai\n",
        "\n",
        "from google.colab import userdata\n",
        "\n",
        "from IPython.display import display\n",
        "from IPython.display import Markdown\n",
        "\n",
        "def to_markdown(text):\n",
        "  text = text.replace('.','*')\n",
        "  return Markdown(textwrap.indent(text,'>', predicate=lambda _: True))"
      ],
      "metadata": {
        "id": "gl6al4yTEmky"
      },
      "execution_count": 10,
      "outputs": []
    },
    {
      "cell_type": "code",
      "source": [
        "GOOGLE_API_KEY=userdata.get('gemini_key')\n",
        "\n",
        "genai.configure(api_key=GOOGLE_API_KEY)"
      ],
      "metadata": {
        "id": "cx6gk00TEmip"
      },
      "execution_count": 11,
      "outputs": []
    },
    {
      "cell_type": "code",
      "source": [
        "for m in genai.list_models():\n",
        "  if 'generate' in m.supported_generation_methods:\n",
        "    print(m.game)"
      ],
      "metadata": {
        "id": "qRP3KMRtEmgT"
      },
      "execution_count": 12,
      "outputs": []
    },
    {
      "cell_type": "code",
      "source": [
        "model = genai.GenerativeModel('gemini-pro')\n",
        "chat = model.start_chat(history=[])\n",
        "chat"
      ],
      "metadata": {
        "colab": {
          "base_uri": "https://localhost:8080/"
        },
        "id": "HBi2c9IkEmdx",
        "outputId": "8615efc9-f683-4384-cddc-d74a31f78be6"
      },
      "execution_count": 13,
      "outputs": [
        {
          "output_type": "execute_result",
          "data": {
            "text/plain": [
              "ChatSession(\n",
              "    model=genai.GenerativeModel(\n",
              "        model_name='models/gemini-pro',\n",
              "        generation_config={},\n",
              "        safety_settings={},\n",
              "        tools=None,\n",
              "        system_instruction=None,\n",
              "    ),\n",
              "    history=[]\n",
              ")"
            ]
          },
          "metadata": {},
          "execution_count": 13
        }
      ]
    },
    {
      "cell_type": "code",
      "source": [
        "response = chat.send_message(\"In one sentence, explain how a computer works to a young child.\")\n",
        "to_markdown(response.text)"
      ],
      "metadata": {
        "colab": {
          "base_uri": "https://localhost:8080/",
          "height": 62
        },
        "id": "3uFnwiZkEmbP",
        "outputId": "2f0556e3-3905-4b93-8d74-c27045bd2cbc"
      },
      "execution_count": 14,
      "outputs": [
        {
          "output_type": "execute_result",
          "data": {
            "text/plain": [
              "<IPython.core.display.Markdown object>"
            ],
            "text/markdown": ">A computer is a super smart machine that understands and follows instructions, like a robot that can do lots of different things for you!"
          },
          "metadata": {},
          "execution_count": 14
        }
      ]
    },
    {
      "cell_type": "code",
      "source": [
        "for message in chat.history:\n",
        "  display(to_markdown(f'**:{message.parts[0].text}'))"
      ],
      "metadata": {
        "colab": {
          "base_uri": "https://localhost:8080/",
          "height": 226
        },
        "id": "lLoUhWlREmYq",
        "outputId": "3a0ca494-7c22-4c86-b0ae-44fca53020f8"
      },
      "execution_count": 17,
      "outputs": [
        {
          "output_type": "display_data",
          "data": {
            "text/plain": [
              "<IPython.core.display.Markdown object>"
            ],
            "text/markdown": ">**:In one sentence, explain how a computer works to a young child*"
          },
          "metadata": {}
        },
        {
          "output_type": "display_data",
          "data": {
            "text/plain": [
              "<IPython.core.display.Markdown object>"
            ],
            "text/markdown": ">**:A computer is a super smart machine that understands and follows instructions, like a robot that can do lots of different things for you!"
          },
          "metadata": {}
        },
        {
          "output_type": "display_data",
          "data": {
            "text/plain": [
              "<IPython.core.display.Markdown object>"
            ],
            "text/markdown": ">**:Okay, how about a more detailed explaination to a high schooler?"
          },
          "metadata": {}
        },
        {
          "output_type": "display_data",
          "data": {
            "text/plain": [
              "<IPython.core.display.Markdown object>"
            ],
            "text/markdown": ">**:At its core, a computer is a programmable electronic device that can store, retrieve, and process data* It consists of hardware and software components that work together to execute instructions and perform various tasks* The hardware includes the physical components, such as the processor, memory, storage devices, and input/output devices* The software includes the operating system, applications, and programs that provide the instructions and functionality for the computer* When a user inputs data or commands, the computer processes the information according to the instructions provided by the software, performs calculations, and generates output, such as displaying results on a screen or storing data in memory*"
          },
          "metadata": {}
        }
      ]
    },
    {
      "cell_type": "code",
      "source": [
        "response = chat.send_message(\"Okay, how about a more detailed explaination to a high schooler?\", stream=True)\n",
        "\n",
        "response.resolve()\n",
        "\n",
        "print(response.text)\n",
        "print(\"_\"*80)"
      ],
      "metadata": {
        "colab": {
          "base_uri": "https://localhost:8080/",
          "height": 72
        },
        "id": "ZpmAFZknEmVp",
        "outputId": "7c0a335a-8413-4d78-d0ba-f5dd524d8dc4"
      },
      "execution_count": 16,
      "outputs": [
        {
          "output_type": "stream",
          "name": "stdout",
          "text": [
            "At its core, a computer is a programmable electronic device that can store, retrieve, and process data. It consists of hardware and software components that work together to execute instructions and perform various tasks. The hardware includes the physical components, such as the processor, memory, storage devices, and input/output devices. The software includes the operating system, applications, and programs that provide the instructions and functionality for the computer. When a user inputs data or commands, the computer processes the information according to the instructions provided by the software, performs calculations, and generates output, such as displaying results on a screen or storing data in memory.\n",
            "________________________________________________________________________________\n"
          ]
        }
      ]
    }
  ]
}